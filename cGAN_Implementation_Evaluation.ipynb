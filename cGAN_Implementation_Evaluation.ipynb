{
  "nbformat": 4,
  "nbformat_minor": 0,
  "metadata": {
    "colab": {
      "provenance": []
    },
    "kernelspec": {
      "name": "python3",
      "display_name": "Python 3"
    },
    "language_info": {
      "name": "python"
    }
  },
  "cells": [
    {
      "cell_type": "code",
      "source": [
        "from google.colab import drive\n",
        "drive.mount('/content/drive')"
      ],
      "metadata": {
        "colab": {
          "base_uri": "https://localhost:8080/"
        },
        "id": "ftT9IoS_gtJQ",
        "outputId": "9b43e7bb-de7f-42d6-9911-7ab718187708"
      },
      "execution_count": null,
      "outputs": [
        {
          "output_type": "stream",
          "name": "stdout",
          "text": [
            "Drive already mounted at /content/drive; to attempt to forcibly remount, call drive.mount(\"/content/drive\", force_remount=True).\n"
          ]
        }
      ]
    },
    {
      "cell_type": "markdown",
      "source": [
        "#Task-1"
      ],
      "metadata": {
        "id": "erz3jkVBxb0Y"
      }
    },
    {
      "cell_type": "code",
      "source": [
        "!pip install wandb"
      ],
      "metadata": {
        "_uuid": "8f2839f25d086af736a60e9eeb907d3b93b6e0e5",
        "_cell_guid": "b1076dfc-b9ad-4769-8c92-a6c4dae69d19",
        "execution": {
          "iopub.status.busy": "2024-04-14T01:02:19.411744Z",
          "iopub.execute_input": "2024-04-14T01:02:19.412398Z",
          "iopub.status.idle": "2024-04-14T01:02:31.399201Z",
          "shell.execute_reply.started": "2024-04-14T01:02:19.412362Z",
          "shell.execute_reply": "2024-04-14T01:02:31.398058Z"
        },
        "trusted": true,
        "id": "e9XZy7Rt0GG7",
        "outputId": "66280c9a-2d5b-441a-c35b-ad960060d44c",
        "colab": {
          "base_uri": "https://localhost:8080/"
        }
      },
      "execution_count": null,
      "outputs": [
        {
          "output_type": "stream",
          "name": "stdout",
          "text": [
            "Collecting wandb\n",
            "  Downloading wandb-0.16.6-py3-none-any.whl (2.2 MB)\n",
            "\u001b[2K     \u001b[90m━━━━━━━━━━━━━━━━━━━━━━━━━━━━━━━━━━━━━━━━\u001b[0m \u001b[32m2.2/2.2 MB\u001b[0m \u001b[31m15.7 MB/s\u001b[0m eta \u001b[36m0:00:00\u001b[0m\n",
            "\u001b[?25hRequirement already satisfied: Click!=8.0.0,>=7.1 in /usr/local/lib/python3.10/dist-packages (from wandb) (8.1.7)\n",
            "Collecting GitPython!=3.1.29,>=1.0.0 (from wandb)\n",
            "  Downloading GitPython-3.1.43-py3-none-any.whl (207 kB)\n",
            "\u001b[2K     \u001b[90m━━━━━━━━━━━━━━━━━━━━━━━━━━━━━━━━━━━━━━━━\u001b[0m \u001b[32m207.3/207.3 kB\u001b[0m \u001b[31m21.4 MB/s\u001b[0m eta \u001b[36m0:00:00\u001b[0m\n",
            "\u001b[?25hRequirement already satisfied: requests<3,>=2.0.0 in /usr/local/lib/python3.10/dist-packages (from wandb) (2.31.0)\n",
            "Requirement already satisfied: psutil>=5.0.0 in /usr/local/lib/python3.10/dist-packages (from wandb) (5.9.5)\n",
            "Collecting sentry-sdk>=1.0.0 (from wandb)\n",
            "  Downloading sentry_sdk-1.45.0-py2.py3-none-any.whl (267 kB)\n",
            "\u001b[2K     \u001b[90m━━━━━━━━━━━━━━━━━━━━━━━━━━━━━━━━━━━━━━━━\u001b[0m \u001b[32m267.1/267.1 kB\u001b[0m \u001b[31m19.5 MB/s\u001b[0m eta \u001b[36m0:00:00\u001b[0m\n",
            "\u001b[?25hCollecting docker-pycreds>=0.4.0 (from wandb)\n",
            "  Downloading docker_pycreds-0.4.0-py2.py3-none-any.whl (9.0 kB)\n",
            "Requirement already satisfied: PyYAML in /usr/local/lib/python3.10/dist-packages (from wandb) (6.0.1)\n",
            "Collecting setproctitle (from wandb)\n",
            "  Downloading setproctitle-1.3.3-cp310-cp310-manylinux_2_5_x86_64.manylinux1_x86_64.manylinux_2_17_x86_64.manylinux2014_x86_64.whl (30 kB)\n",
            "Requirement already satisfied: setuptools in /usr/local/lib/python3.10/dist-packages (from wandb) (67.7.2)\n",
            "Requirement already satisfied: appdirs>=1.4.3 in /usr/local/lib/python3.10/dist-packages (from wandb) (1.4.4)\n",
            "Requirement already satisfied: protobuf!=4.21.0,<5,>=3.19.0 in /usr/local/lib/python3.10/dist-packages (from wandb) (3.20.3)\n",
            "Requirement already satisfied: six>=1.4.0 in /usr/local/lib/python3.10/dist-packages (from docker-pycreds>=0.4.0->wandb) (1.16.0)\n",
            "Collecting gitdb<5,>=4.0.1 (from GitPython!=3.1.29,>=1.0.0->wandb)\n",
            "  Downloading gitdb-4.0.11-py3-none-any.whl (62 kB)\n",
            "\u001b[2K     \u001b[90m━━━━━━━━━━━━━━━━━━━━━━━━━━━━━━━━━━━━━━━━\u001b[0m \u001b[32m62.7/62.7 kB\u001b[0m \u001b[31m9.9 MB/s\u001b[0m eta \u001b[36m0:00:00\u001b[0m\n",
            "\u001b[?25hRequirement already satisfied: charset-normalizer<4,>=2 in /usr/local/lib/python3.10/dist-packages (from requests<3,>=2.0.0->wandb) (3.3.2)\n",
            "Requirement already satisfied: idna<4,>=2.5 in /usr/local/lib/python3.10/dist-packages (from requests<3,>=2.0.0->wandb) (3.7)\n",
            "Requirement already satisfied: urllib3<3,>=1.21.1 in /usr/local/lib/python3.10/dist-packages (from requests<3,>=2.0.0->wandb) (2.0.7)\n",
            "Requirement already satisfied: certifi>=2017.4.17 in /usr/local/lib/python3.10/dist-packages (from requests<3,>=2.0.0->wandb) (2024.2.2)\n",
            "Collecting smmap<6,>=3.0.1 (from gitdb<5,>=4.0.1->GitPython!=3.1.29,>=1.0.0->wandb)\n",
            "  Downloading smmap-5.0.1-py3-none-any.whl (24 kB)\n",
            "Installing collected packages: smmap, setproctitle, sentry-sdk, docker-pycreds, gitdb, GitPython, wandb\n",
            "Successfully installed GitPython-3.1.43 docker-pycreds-0.4.0 gitdb-4.0.11 sentry-sdk-1.45.0 setproctitle-1.3.3 smmap-5.0.1 wandb-0.16.6\n"
          ]
        }
      ]
    },
    {
      "cell_type": "code",
      "source": [
        "import os\n",
        "import random\n",
        "import numpy as np\n",
        "from pathlib import Path\n",
        "import pandas as pd\n",
        "import torch\n",
        "from torch.utils.data import Dataset, DataLoader\n",
        "import torchvision.transforms as transforms\n",
        "from PIL import Image\n",
        "import matplotlib.pyplot as plt\n",
        "from tqdm import tqdm\n",
        "from torchvision.utils import make_grid\n",
        "import albumentations as A\n",
        "from albumentations.pytorch import ToTensorV2\n",
        "import wandb\n",
        "import torch.nn.utils.prune as prune\n",
        "import torch.nn.functional as F\n"
      ],
      "metadata": {
        "id": "18tt2To5t73I"
      },
      "execution_count": null,
      "outputs": []
    },
    {
      "cell_type": "code",
      "source": [
        "TRAIN_SKETCH_PATH_PAIRED = \"/content/drive/MyDrive/Train/Paired_train_sketches\"\n",
        "TRAIN_DATA_PATH = \"/content/drive/MyDrive/Train_data\"\n",
        "TRAIN_DATA_CSV_PATH = \"/content/drive/MyDrive/Train/Train_labels.csv\""
      ],
      "metadata": {
        "id": "160tHyDIS5i8"
      },
      "execution_count": null,
      "outputs": []
    },
    {
      "cell_type": "code",
      "source": [
        "TEST_SKETCH_PATH_PAIRED = \"/content/drive/MyDrive/Test1/Test/Paired_test_sketch\"\n",
        "TEST_DATA_PATH = \"/content/drive/MyDrive/Test1/Test/Test_data\"\n",
        "TEST_DATA_CSV_PATH = \"/content/drive/MyDrive/Test1/Test/Test.csv\""
      ],
      "metadata": {
        "id": "1MEiQ-CLS732"
      },
      "execution_count": null,
      "outputs": []
    },
    {
      "cell_type": "code",
      "source": [
        "TEST_SKETCH_PATH_PAIRED = \"/content/drive/MyDrive/Test1/Test/Paired_test_sketch\"\n",
        "TEST_DATA_PATH = \"/content/drive/MyDrive/Test1/Test/Test_data\"\n",
        "TEST_DATA_CSV_PATH = \"/content/drive/MyDrive/Test1/Test/Test.csv\""
      ],
      "metadata": {
        "id": "n4ecG-o5bU2Y"
      },
      "execution_count": null,
      "outputs": []
    },
    {
      "cell_type": "code",
      "source": [
        "IMG_WIDTH = 128\n",
        "IMG_HEIGHT = 128\n",
        "SKETCH_WIDTH = 128\n",
        "SKETCH_HEIGHT = 128\n",
        "BATCH_SIZE = 32\n",
        "NUM_WORKERS = 2\n",
        "DEVICE = \"cuda:0\" if torch.cuda.is_available() else \"cpu\"\n"
      ],
      "metadata": {
        "id": "Vy-uqh3FTAV5"
      },
      "execution_count": null,
      "outputs": []
    },
    {
      "cell_type": "code",
      "source": [
        "DEVICE"
      ],
      "metadata": {
        "execution": {
          "iopub.status.busy": "2024-04-14T01:02:52.697522Z",
          "iopub.execute_input": "2024-04-14T01:02:52.697895Z",
          "iopub.status.idle": "2024-04-14T01:02:52.704530Z",
          "shell.execute_reply.started": "2024-04-14T01:02:52.697864Z",
          "shell.execute_reply": "2024-04-14T01:02:52.703579Z"
        },
        "trusted": true,
        "id": "i87MfcYU0GG-",
        "outputId": "fea15f2c-7ca1-4949-9c2a-25f06a81293f",
        "colab": {
          "base_uri": "https://localhost:8080/",
          "height": 36
        }
      },
      "execution_count": null,
      "outputs": [
        {
          "output_type": "execute_result",
          "data": {
            "text/plain": [
              "'cuda:0'"
            ],
            "application/vnd.google.colaboratory.intrinsic+json": {
              "type": "string"
            }
          },
          "metadata": {},
          "execution_count": 55
        }
      ]
    },
    {
      "cell_type": "code",
      "source": [
        "data_frame = pd.read_csv(TEST_DATA_CSV_PATH)\n",
        "img_name = os.path.join(TEST_DATA_PATH, data_frame.iloc[2, 0])\n",
        "img = Image.open(img_name + \".jpg\").convert('RGB')\n",
        "label = torch.tensor(data_frame.iloc[2, 1:], dtype=torch.float32)\n",
        "\n",
        "print(img_name, label)"
      ],
      "metadata": {
        "id": "igGn986PTC4M",
        "colab": {
          "base_uri": "https://localhost:8080/"
        },
        "outputId": "882b3c16-5cb0-4b5c-a29c-140e80bb1209"
      },
      "execution_count": null,
      "outputs": [
        {
          "output_type": "stream",
          "name": "stdout",
          "text": [
            "/content/drive/MyDrive/Test1/Test/Test_data/Image_4 tensor([0., 1., 0., 0., 0., 0., 0.])\n"
          ]
        }
      ]
    },
    {
      "cell_type": "markdown",
      "source": [
        "#Dataset"
      ],
      "metadata": {
        "id": "-8jAppVpx2aI"
      }
    },
    {
      "cell_type": "code",
      "source": [
        "def find_class(one_hot_vec):\n",
        "    for i, x in enumerate(one_hot_vec):\n",
        "        if x == 1:\n",
        "            return i"
      ],
      "metadata": {
        "id": "3sXc2Vx8gK8f"
      },
      "execution_count": null,
      "outputs": []
    },
    {
      "cell_type": "code",
      "source": [
        "\n",
        "class CustomDataset(Dataset):\n",
        "    def __init__(self, img_path, sketch_path, csv_data_frame_path, transform_img=None, transform_sketch=None):\n",
        "        self.img_dir = img_path\n",
        "        self.sketch_dir = sketch_path\n",
        "        self.data_frame = pd.read_csv(csv_data_frame_path)\n",
        "        self.transform_img = transform_img\n",
        "        self.transform_sketch = transform_sketch\n",
        "        self.sketch_images = sorted(os.listdir(sketch_path))\n",
        "        self.test_images = sorted(os.listdir(img_path))\n",
        "\n",
        "    def __len__(self):\n",
        "        return len(self.data_frame)\n",
        "\n",
        "    def __getitem__(self, idx):\n",
        "        # img_name = os.path.join(self.img_dir, self.data_frame.iloc[idx, 0])\n",
        "        img_name = os.path.join(self.img_dir, self.test_images[idx])\n",
        "        #print(\"Image Name:\",img_name)\n",
        "        img = Image.open(img_name).convert('RGB')\n",
        "        label = torch.tensor(self.data_frame.iloc[idx, 1:], dtype=torch.float32)\n",
        "        img_class = find_class(label)\n",
        "\n",
        "        sketch_file_name = os.path.join(self.sketch_dir, self.sketch_images[idx])\n",
        "        #print(\"sketch Name:\",sketch_file_name)\n",
        "        sketch_img = Image.open(sketch_file_name).convert('RGB')\n",
        "\n",
        "        if self.transform_img:\n",
        "            img = self.transform_img(img)\n",
        "\n",
        "        if self.transform_sketch:\n",
        "            sketch_img = self.transform_sketch(sketch_img)\n",
        "\n",
        "        return img, label, sketch_img,img_class\n"
      ],
      "metadata": {
        "id": "s5wi5mhPUItY"
      },
      "execution_count": null,
      "outputs": []
    },
    {
      "cell_type": "markdown",
      "source": [
        "#Dataloader"
      ],
      "metadata": {
        "id": "mY_ckKERyEiL"
      }
    },
    {
      "cell_type": "code",
      "source": [
        "class CustomDataLoader:\n",
        "  def __init__(self):\n",
        "    pass\n",
        "\n",
        "  def setup(self):\n",
        "    transform_img = transforms.Compose([\n",
        "        transforms.Resize((IMG_WIDTH, IMG_HEIGHT)),\n",
        "        transforms.ToTensor(),\n",
        "        #transforms.Normalize(mean=[0.5, 0.5, 0.5], std=[0.5, 0.5, 0.5])\n",
        "    ])\n",
        "#     transform_img = A.Compose([\n",
        "#         A.Resize(IMG_WIDTH, IMG_HEIGHT),\n",
        "# #         A.ShiftScaleRotate(shift_limit=0.2, scale_limit=0.2, rotate_limit=30, p=0.5),\n",
        "# #         A.RGBShift(r_shift_limit=25, g_shift_limit=25, b_shift_limit=25, p=0.5),\n",
        "# #         A.RandomBrightnessContrast(brightness_limit=0.3, contrast_limit=0.3, p=0.5),\n",
        "# #         A.ColorJitter(brightness=0.1, contrast=0.1, saturation=0.1, hue=0.1),\n",
        "#         A.Normalize(mean=[0.5, 0.5, 0.5], std=[0.5, 0.5, 0.5], max_pixel_value=255.0,),\n",
        "#         ToTensorV2(),\n",
        "#     ])\n",
        "\n",
        "    transform_sketch = transforms.Compose([\n",
        "        transforms.Resize((SKETCH_WIDTH, SKETCH_HEIGHT)),\n",
        "        transforms.ToTensor(),\n",
        "        #transforms.Normalize(mean=[0.5, 0.5, 0.5], std=[0.5, 0.5, 0.5])\n",
        "    ])\n",
        "\n",
        "    self.train_dataset = CustomDataset(TRAIN_DATA_PATH, TRAIN_SKETCH_PATH_PAIRED, TRAIN_DATA_CSV_PATH, transform_img, transform_sketch)\n",
        "    self.test_dataset = CustomDataset(TEST_DATA_PATH, TEST_SKETCH_PATH_PAIRED, TEST_DATA_CSV_PATH, transform_img, transform_sketch)\n",
        "\n",
        "  def train_dataloader(self):\n",
        "    return DataLoader(self.train_dataset, batch_size=BATCH_SIZE, shuffle=True, num_workers=NUM_WORKERS)\n",
        "\n",
        "  def test_dataloader(self):\n",
        "    return DataLoader(self.test_dataset, batch_size=BATCH_SIZE, shuffle=False, num_workers=NUM_WORKERS)"
      ],
      "metadata": {
        "id": "7P4OJZghVAqm"
      },
      "execution_count": null,
      "outputs": []
    },
    {
      "cell_type": "code",
      "source": [
        "data_loader = CustomDataLoader()\n",
        "data_loader.setup()"
      ],
      "metadata": {
        "id": "kEBDaRPNWBOM"
      },
      "execution_count": null,
      "outputs": []
    },
    {
      "cell_type": "code",
      "source": [
        "images, labels, sketches, classes = next(iter(data_loader.train_dataloader()))"
      ],
      "metadata": {
        "execution": {
          "iopub.status.busy": "2024-04-13T23:17:04.618256Z",
          "iopub.execute_input": "2024-04-13T23:17:04.618606Z",
          "iopub.status.idle": "2024-04-13T23:17:06.526281Z",
          "shell.execute_reply.started": "2024-04-13T23:17:04.618579Z",
          "shell.execute_reply": "2024-04-13T23:17:06.525225Z"
        },
        "trusted": true,
        "id": "IPd4c6LN0GG-",
        "outputId": "22ee259c-7b75-4e93-b7c8-015466e1f391"
      },
      "execution_count": null,
      "outputs": [
        {
          "name": "stderr",
          "text": "/tmp/ipykernel_34/2379273028.py:16: FutureWarning: Series.__getitem__ treating keys as positions is deprecated. In a future version, integer keys will always be treated as labels (consistent with DataFrame behavior). To access a value by position, use `ser.iloc[pos]`\n  label = torch.tensor(self.data_frame.iloc[idx, 1:], dtype=torch.float32)\n/tmp/ipykernel_34/2379273028.py:16: FutureWarning: Series.__getitem__ treating keys as positions is deprecated. In a future version, integer keys will always be treated as labels (consistent with DataFrame behavior). To access a value by position, use `ser.iloc[pos]`\n  label = torch.tensor(self.data_frame.iloc[idx, 1:], dtype=torch.float32)\n",
          "output_type": "stream"
        }
      ]
    },
    {
      "cell_type": "code",
      "source": [
        "print(images.shape, labels.shape, sketches.shape, classes.shape)"
      ],
      "metadata": {
        "execution": {
          "iopub.status.busy": "2024-04-13T23:17:10.702269Z",
          "iopub.execute_input": "2024-04-13T23:17:10.702653Z",
          "iopub.status.idle": "2024-04-13T23:17:10.708758Z",
          "shell.execute_reply.started": "2024-04-13T23:17:10.702620Z",
          "shell.execute_reply": "2024-04-13T23:17:10.707719Z"
        },
        "trusted": true,
        "id": "ZefJOWwf0GG_"
      },
      "execution_count": null,
      "outputs": []
    },
    {
      "cell_type": "code",
      "source": [
        "classes"
      ],
      "metadata": {
        "execution": {
          "iopub.status.busy": "2024-04-13T19:54:14.253866Z",
          "iopub.execute_input": "2024-04-13T19:54:14.254509Z",
          "iopub.status.idle": "2024-04-13T19:54:14.261707Z",
          "shell.execute_reply.started": "2024-04-13T19:54:14.254482Z",
          "shell.execute_reply": "2024-04-13T19:54:14.260673Z"
        },
        "trusted": true,
        "id": "vMQKUWUT0GG_",
        "outputId": "57e9491f-1f10-449e-b9c8-6c78642f8764"
      },
      "execution_count": null,
      "outputs": [
        {
          "execution_count": 18,
          "output_type": "execute_result",
          "data": {
            "text/plain": "tensor([1, 1, 4, 1, 1, 1, 1, 1, 2, 1, 2, 4, 1, 4, 1, 1, 1, 1, 1, 1, 1, 1, 1, 1,\n        1, 2, 1, 5, 2, 1, 6, 1])"
          },
          "metadata": {}
        }
      ]
    },
    {
      "cell_type": "code",
      "source": [
        "images, labels, sketches,classes = next(iter(data_loader.test_dataloader()))\n",
        "sketches = sketches.to(DEVICE)\n",
        "labels = labels.to(DEVICE)\n",
        "\n",
        "print(images.shape, labels.shape, sketches.shape)"
      ],
      "metadata": {
        "colab": {
          "base_uri": "https://localhost:8080/"
        },
        "id": "Y6Pgnsa8wC_s",
        "outputId": "68da7765-0302-4ee3-b4f6-13b3b3853e91"
      },
      "execution_count": null,
      "outputs": [
        {
          "output_type": "stream",
          "name": "stderr",
          "text": [
            "/usr/lib/python3.10/multiprocessing/popen_fork.py:66: RuntimeWarning: os.fork() was called. os.fork() is incompatible with multithreaded code, and JAX is multithreaded, so this will likely lead to a deadlock.\n",
            "  self.pid = os.fork()\n"
          ]
        },
        {
          "output_type": "stream",
          "name": "stdout",
          "text": [
            "torch.Size([32, 3, 128, 128]) torch.Size([32, 7]) torch.Size([32, 3, 128, 128])\n"
          ]
        }
      ]
    },
    {
      "cell_type": "markdown",
      "source": [
        "#Sample Display"
      ],
      "metadata": {
        "id": "P_QLZj2OyWo3"
      }
    },
    {
      "cell_type": "code",
      "source": [
        "def display_image(image):\n",
        "  pil_image = transforms.functional.to_pil_image(image)\n",
        "  plt.figure(figsize=(8, 8))\n",
        "  plt.imshow(pil_image)\n",
        "  plt.title('Sample Image')\n",
        "  plt.axis('off')\n",
        "  plt.show()"
      ],
      "metadata": {
        "id": "kAaEW80uXcVJ"
      },
      "execution_count": null,
      "outputs": []
    },
    {
      "cell_type": "code",
      "source": [
        "display_image(images[3])"
      ],
      "metadata": {
        "id": "hli_bhOtXhiN",
        "colab": {
          "base_uri": "https://localhost:8080/",
          "height": 675
        },
        "outputId": "34153b32-9c2f-4743-f220-bb4877afdeeb"
      },
      "execution_count": null,
      "outputs": [
        {
          "output_type": "display_data",
          "data": {
            "text/plain": [
              "<Figure size 800x800 with 1 Axes>"
            ],
            "image/png": "[encoded data removed]"
          },
          "metadata": {}
        }
      ]
    },
    {
      "cell_type": "code",
      "source": [
        "display_image(sketches[3])"
      ],
      "metadata": {
        "id": "PKCn8UUEX2Hj",
        "colab": {
          "base_uri": "https://localhost:8080/",
          "height": 675
        },
        "outputId": "6a0a14cd-228e-4fb0-a81b-5d94cd514dac"
      },
      "execution_count": null,
      "outputs": [
        {
          "output_type": "display_data",
          "data": {
            "text/plain": [
              "<Figure size 800x800 with 1 Axes>"
            ],
            "image/png": "[encoded data removed]"
          },
          "metadata": {}
        }
      ]
    },
    {
      "cell_type": "code",
      "source": [
        "data_frame = pd.read_csv(TRAIN_DATA_CSV_PATH)\n",
        "column_names = data_frame.columns.tolist()[1:]\n",
        "print(column_names)"
      ],
      "metadata": {
        "execution": {
          "iopub.status.busy": "2024-04-13T21:14:35.051166Z",
          "iopub.execute_input": "2024-04-13T21:14:35.051621Z",
          "iopub.status.idle": "2024-04-13T21:14:35.081699Z",
          "shell.execute_reply.started": "2024-04-13T21:14:35.051588Z",
          "shell.execute_reply": "2024-04-13T21:14:35.080305Z"
        },
        "trusted": true,
        "id": "w1Ird_ga0GHA",
        "outputId": "ee526cf6-85bc-491a-de6f-54ad7b5a2184"
      },
      "execution_count": null,
      "outputs": [
        {
          "name": "stdout",
          "text": "['MEL', 'NV', 'BCC', 'AKIEC', 'BKL', 'DF', 'VASC']\n",
          "output_type": "stream"
        }
      ]
    },
    {
      "cell_type": "markdown",
      "source": [
        "#Grouping data according to labels"
      ],
      "metadata": {
        "id": "CB8i6z2Xyixl"
      }
    },
    {
      "cell_type": "code",
      "source": [
        "grouped_data = {}\n",
        "for col in column_list:\n",
        "    # Check if the column contains the value 1\n",
        "    if (df[col] == 1).any():\n",
        "        # Group the DataFrame by the column where the value is 1\n",
        "        grouped_data[col] = df.loc[df[col] == 1, 'image'].tolist()\n"
      ],
      "metadata": {
        "id": "NQPzqZWnaY0i"
      },
      "execution_count": null,
      "outputs": []
    },
    {
      "cell_type": "code",
      "source": [
        "grouped_data['MEL']"
      ],
      "metadata": {
        "id": "8jX4nTL9abc4"
      },
      "execution_count": null,
      "outputs": []
    },
    {
      "cell_type": "markdown",
      "source": [
        "#Generating Random Images per Column"
      ],
      "metadata": {
        "id": "OaMuqgi2yoXj"
      }
    },
    {
      "cell_type": "code",
      "source": [
        "selected_images_by_column = {}\n",
        "num_images_to_select = 32\n",
        "for key, image_list in grouped_data.items():\n",
        "    selected_images = random.sample(image_list, num_images_to_select)\n",
        "    selected_images_by_column[key] = selected_images\n"
      ],
      "metadata": {
        "id": "vIkJh-M1f5K0"
      },
      "execution_count": null,
      "outputs": []
    },
    {
      "cell_type": "code",
      "source": [
        "selected_images_by_column"
      ],
      "metadata": {
        "id": "eW-HRHofgWam"
      },
      "execution_count": null,
      "outputs": []
    },
    {
      "cell_type": "code",
      "source": [
        "transform_img = transforms.Compose([\n",
        "        transforms.Resize((IMG_WIDTH, IMG_HEIGHT)),\n",
        "        transforms.ToTensor(),\n",
        "        transforms.Normalize(mean=[0.5, 0.5, 0.5], std=[0.5, 0.5, 0.5])\n",
        "    ])"
      ],
      "metadata": {
        "id": "z5LbjXvZjJnL"
      },
      "execution_count": null,
      "outputs": []
    },
    {
      "cell_type": "code",
      "source": [
        "# Create an empty dictionary to store data loaders for each column\n",
        "loader_dict = {}\n",
        "\n",
        "# Iterate over each column in the dataset\n",
        "for col in column_list:\n",
        "    # Create an empty list to store data tuples (image, label, sketch, class)\n",
        "    data = []\n",
        "\n",
        "    # Iterate over randomly selected image names for the current column\n",
        "    for image_name in selected_images_by_column[col]:\n",
        "        # Construct the file path for the image\n",
        "        img_path = TRAIN_IMAGE_DIR + \"/\" + image_name + '.jpg'\n",
        "        # Open the image and convert it to RGB format\n",
        "        img = Image.open(img_path).convert('RGB')\n",
        "\n",
        "        # Filter the DataFrame to get the label corresponding to the current image\n",
        "        filtered_df = df[df['image'] == image_name]\n",
        "        # Extract the label as a tensor\n",
        "        label = torch.tensor(filtered_df.iloc[:, 1:].values[0], dtype=torch.float32)\n",
        "        # Determine the class of the image based on the label\n",
        "        img_class = find_class(np.array(label))\n",
        "\n",
        "        # Construct the file path for the sketch image\n",
        "        sketch_path = TRAIN_SKETCH_DIR_PAIRED + '/' + image_name + '_segmentation.png'\n",
        "        # Open the sketch image and convert it to RGB format\n",
        "        sketch_img = Image.open(sketch_path).convert('RGB')\n",
        "\n",
        "        # Apply transformations to the image and sketch image\n",
        "        img = transform_img(img)\n",
        "        sketch_img = transform_img(sketch_img)\n",
        "\n",
        "        # Append the data tuple (image, label, sketch, class) to the list\n",
        "        data.append((img, label, sketch_img, img_class))\n",
        "\n",
        "    # Create a data loader for the current column's data\n",
        "    data_loader = DataLoader(data, batch_size=BATCH_SIZE, shuffle=False)\n",
        "\n",
        "    # Add the data loader to the dictionary with the column name as the key\n",
        "    loader_dict[col] = data_loader\n"
      ],
      "metadata": {
        "id": "koimDFvJidpX"
      },
      "execution_count": null,
      "outputs": []
    },
    {
      "cell_type": "code",
      "source": [
        "loader_dict"
      ],
      "metadata": {
        "execution": {
          "iopub.status.busy": "2024-04-13T22:15:11.816894Z",
          "iopub.execute_input": "2024-04-13T22:15:11.817328Z",
          "iopub.status.idle": "2024-04-13T22:15:11.824888Z",
          "shell.execute_reply.started": "2024-04-13T22:15:11.817296Z",
          "shell.execute_reply": "2024-04-13T22:15:11.823525Z"
        },
        "trusted": true,
        "id": "3Xf0GMBT0GHB",
        "outputId": "a5281db4-1153-4c44-bee6-bf1c3bb9b332"
      },
      "execution_count": null,
      "outputs": [
        {
          "execution_count": 52,
          "output_type": "execute_result",
          "data": {
            "text/plain": "{'MEL': <torch.utils.data.dataloader.DataLoader at 0x7b82434a07f0>,\n 'NV': <torch.utils.data.dataloader.DataLoader at 0x7b82434de500>,\n 'BCC': <torch.utils.data.dataloader.DataLoader at 0x7b8243590ee0>,\n 'AKIEC': <torch.utils.data.dataloader.DataLoader at 0x7b82432e7b80>,\n 'BKL': <torch.utils.data.dataloader.DataLoader at 0x7b82432e78e0>,\n 'DF': <torch.utils.data.dataloader.DataLoader at 0x7b8240b7bcd0>,\n 'VASC': <torch.utils.data.dataloader.DataLoader at 0x7b82432e7af0>}"
          },
          "metadata": {}
        }
      ]
    },
    {
      "cell_type": "code",
      "source": [
        "images, labels, sketches, classes = next(iter(loader_dict['MEL']))"
      ],
      "metadata": {
        "id": "4XpX6K7IlkY1"
      },
      "execution_count": null,
      "outputs": []
    },
    {
      "cell_type": "code",
      "source": [
        "display_image(sketches[15])\n",
        "display_image(images[15])"
      ],
      "metadata": {
        "id": "LpWl9R19lo3Z"
      },
      "execution_count": null,
      "outputs": []
    },
    {
      "cell_type": "code",
      "source": [
        "print(images.shape, labels.shape, sketches.shape, classes.shape)"
      ],
      "metadata": {
        "execution": {
          "iopub.status.busy": "2024-04-13T22:16:17.167822Z",
          "iopub.execute_input": "2024-04-13T22:16:17.169322Z",
          "iopub.status.idle": "2024-04-13T22:16:17.178008Z",
          "shell.execute_reply.started": "2024-04-13T22:16:17.169258Z",
          "shell.execute_reply": "2024-04-13T22:16:17.176613Z"
        },
        "trusted": true,
        "id": "-up2Z07-0GHB",
        "outputId": "ee0e1978-7295-4a96-f7b4-d229f2b93424"
      },
      "execution_count": null,
      "outputs": [
        {
          "name": "stdout",
          "text": "torch.Size([32, 3, 128, 128]) torch.Size([32, 7]) torch.Size([32, 3, 128, 128]) torch.Size([32])\n",
          "output_type": "stream"
        }
      ]
    },
    {
      "cell_type": "code",
      "source": [
        "# wandb.login()\n",
        "wandb.init(project='DL_assignment4', name='task')"
      ],
      "metadata": {
        "id": "ZiDu1Bf4mg3p"
      },
      "execution_count": null,
      "outputs": []
    },
    {
      "cell_type": "markdown",
      "source": [
        "#Discriminator"
      ],
      "metadata": {
        "id": "cEJrbV0lzLI7"
      }
    },
    {
      "cell_type": "code",
      "source": [
        "class Discriminator(torch.nn.Module):\n",
        "    def __init__(self, image_channel=10, hidden_dim=8):\n",
        "        super(Discriminator, self).__init__()\n",
        "\n",
        "        # Initialize the discriminator blocks as a list of sequential layers\n",
        "        self.disc_blocks = torch.nn.ModuleList([\n",
        "            self._discriminator_block(image_channel, hidden_dim),\n",
        "            self._discriminator_block(hidden_dim, hidden_dim * 2),\n",
        "            self._discriminator_block(hidden_dim*2, hidden_dim * 4),\n",
        "            self._discriminator_block(hidden_dim*4, hidden_dim * 6, kernel_size=2, stride=1),\n",
        "            self._discriminator_block(hidden_dim*6, hidden_dim * 8, kernel_size=2, stride=1),\n",
        "            self._discriminator_block(hidden_dim * 8, hidden_dim * 16, kernel_size=2, stride=1),\n",
        "            self._discriminator_block(hidden_dim * 16, hidden_dim * 32, kernel_size=2, stride=1),\n",
        "            self._discriminator_block(hidden_dim * 32, hidden_dim * 64, kernel_size=2, stride=1),\n",
        "            self._discriminator_block(hidden_dim * 64, 1, kernel_size=9, stride=1, final_layer=True),\n",
        "        ])\n",
        "\n",
        "#         self.embed = torch.nn.Embedding(7, 128*128)\n",
        "\n",
        "    def _discriminator_block(\n",
        "        self,\n",
        "        input_channels,\n",
        "        output_channels,\n",
        "        kernel_size=4,\n",
        "        stride=2,\n",
        "        final_layer=False,\n",
        "    ):\n",
        "        # Define a discriminator block as a sequence of convolutional layers followed by optional normalization and activation\n",
        "        layers = []\n",
        "        layers.append(torch.nn.Conv2d(input_channels, output_channels, kernel_size, stride))\n",
        "        if not final_layer:\n",
        "            layers.extend([\n",
        "                torch.nn.BatchNorm2d(output_channels),  # Batch normalization to stabilize training\n",
        "                torch.nn.LeakyReLU(0.2, inplace=True),  # Leaky ReLU activation for introducing non-linearity\n",
        "            ])\n",
        "        return torch.nn.Sequential(*layers)\n",
        "\n",
        "    def forward(self, x, labels):\n",
        "        # Concatenate input image with label embedding\n",
        "        embedding = labels.unsqueeze(-1).unsqueeze(-1).expand(-1, -1, 128, 128)\n",
        "        x = torch.cat([x, embedding], dim=1)\n",
        "\n",
        "        # Pass through each discriminator block sequentially\n",
        "        for layer in self.disc_blocks:\n",
        "            x = layer(x)\n",
        "\n",
        "        # Flatten the output tensor\n",
        "        x = x.view(len(x), -1)\n",
        "\n",
        "        # Apply sigmoid activation to obtain probabilities\n",
        "        x = torch.sigmoid(x)\n",
        "        return x\n"
      ],
      "metadata": {
        "id": "dYledkcBmipm"
      },
      "execution_count": null,
      "outputs": []
    },
    {
      "cell_type": "code",
      "source": [
        "discriminator = Discriminator().to(DEVICE)\n",
        "discriminator"
      ],
      "metadata": {
        "execution": {
          "iopub.status.busy": "2024-04-14T01:04:35.745337Z",
          "iopub.execute_input": "2024-04-14T01:04:35.745687Z",
          "iopub.status.idle": "2024-04-14T01:04:35.936437Z",
          "shell.execute_reply.started": "2024-04-14T01:04:35.745661Z",
          "shell.execute_reply": "2024-04-14T01:04:35.935423Z"
        },
        "trusted": true,
        "id": "xBXo1wgC0GHE",
        "outputId": "82fd9bfe-6886-4779-b987-ed8ef715a34d"
      },
      "execution_count": null,
      "outputs": [
        {
          "execution_count": 15,
          "output_type": "execute_result",
          "data": {
            "text/plain": "Discriminator(\n  (disc): Sequential(\n    (0): Sequential(\n      (0): Conv2d(10, 8, kernel_size=(4, 4), stride=(2, 2))\n      (1): BatchNorm2d(8, eps=1e-05, momentum=0.1, affine=True, track_running_stats=True)\n      (2): LeakyReLU(negative_slope=0.2, inplace=True)\n    )\n    (1): Sequential(\n      (0): Conv2d(8, 16, kernel_size=(4, 4), stride=(2, 2))\n      (1): BatchNorm2d(16, eps=1e-05, momentum=0.1, affine=True, track_running_stats=True)\n      (2): LeakyReLU(negative_slope=0.2, inplace=True)\n    )\n    (2): Sequential(\n      (0): Conv2d(16, 32, kernel_size=(4, 4), stride=(2, 2))\n      (1): BatchNorm2d(32, eps=1e-05, momentum=0.1, affine=True, track_running_stats=True)\n      (2): LeakyReLU(negative_slope=0.2, inplace=True)\n    )\n    (3): Sequential(\n      (0): Conv2d(32, 48, kernel_size=(2, 2), stride=(1, 1))\n      (1): BatchNorm2d(48, eps=1e-05, momentum=0.1, affine=True, track_running_stats=True)\n      (2): LeakyReLU(negative_slope=0.2, inplace=True)\n    )\n    (4): Sequential(\n      (0): Conv2d(48, 64, kernel_size=(2, 2), stride=(1, 1))\n      (1): BatchNorm2d(64, eps=1e-05, momentum=0.1, affine=True, track_running_stats=True)\n      (2): LeakyReLU(negative_slope=0.2, inplace=True)\n    )\n    (5): Sequential(\n      (0): Conv2d(64, 128, kernel_size=(2, 2), stride=(1, 1))\n      (1): BatchNorm2d(128, eps=1e-05, momentum=0.1, affine=True, track_running_stats=True)\n      (2): LeakyReLU(negative_slope=0.2, inplace=True)\n    )\n    (6): Sequential(\n      (0): Conv2d(128, 256, kernel_size=(2, 2), stride=(1, 1))\n      (1): BatchNorm2d(256, eps=1e-05, momentum=0.1, affine=True, track_running_stats=True)\n      (2): LeakyReLU(negative_slope=0.2, inplace=True)\n    )\n    (7): Sequential(\n      (0): Conv2d(256, 512, kernel_size=(2, 2), stride=(1, 1))\n      (1): BatchNorm2d(512, eps=1e-05, momentum=0.1, affine=True, track_running_stats=True)\n      (2): LeakyReLU(negative_slope=0.2, inplace=True)\n    )\n    (8): Sequential(\n      (0): Conv2d(512, 1, kernel_size=(9, 9), stride=(1, 1))\n    )\n  )\n)"
          },
          "metadata": {}
        }
      ]
    },
    {
      "cell_type": "code",
      "source": [
        "img_from_gen = torch.randn(32, 3, 128, 128).to(DEVICE)\n",
        "discriminator(img_from_gen, torch.rand(32, 7).to(torch.long).to(DEVICE)).shape"
      ],
      "metadata": {
        "execution": {
          "iopub.status.busy": "2024-04-14T01:04:39.573620Z",
          "iopub.execute_input": "2024-04-14T01:04:39.573976Z",
          "iopub.status.idle": "2024-04-14T01:04:40.253293Z",
          "shell.execute_reply.started": "2024-04-14T01:04:39.573941Z",
          "shell.execute_reply": "2024-04-14T01:04:40.252440Z"
        },
        "trusted": true,
        "id": "mYVi6jS-0GHE",
        "outputId": "f26b9bee-6ec1-4b16-86de-742533f45a9d"
      },
      "execution_count": null,
      "outputs": [
        {
          "execution_count": 16,
          "output_type": "execute_result",
          "data": {
            "text/plain": "torch.Size([32, 1])"
          },
          "metadata": {}
        }
      ]
    },
    {
      "cell_type": "markdown",
      "source": [
        "#Generator"
      ],
      "metadata": {
        "id": "Rd0_rk-HzW9l"
      }
    },
    {
      "cell_type": "code",
      "source": [
        "class Generator(torch.nn.Module):\n",
        "    def __init__(self, input_dim=10, image_channel=3, hidden_dim=16):\n",
        "        super(Generator, self).__init__()\n",
        "        self.input_dim = input_dim\n",
        "\n",
        "        self.gen = torch.nn.Sequential(\n",
        "            self._conv_block(input_dim, hidden_dim, kernel_size=4, stride=2, padding=1),\n",
        "            self._conv_block(hidden_dim, hidden_dim * 2, kernel_size=4, stride=2, padding=1),\n",
        "            self._conv_block(hidden_dim * 2, hidden_dim * 4, kernel_size=4, stride=2, padding=1),\n",
        "            self._conv_block(hidden_dim * 4, hidden_dim * 6, kernel_size=4, stride=2, padding=1),\n",
        "            self._conv_block(hidden_dim * 6, hidden_dim * 8, kernel_size=4, stride=2, padding=1),\n",
        "        )\n",
        "\n",
        "        self.upsamp_gen = torch.nn.Sequential(\n",
        "            self._transpose_conv_block(hidden_dim * 8, hidden_dim * 6, kernel_size=4, stride=2, padding=1),\n",
        "            self._transpose_conv_block(hidden_dim * 6, hidden_dim * 4, kernel_size=4, stride=2, padding=1),\n",
        "            self._transpose_conv_block(hidden_dim * 4, hidden_dim * 2, kernel_size=4, stride=2, padding=1),\n",
        "            self._transpose_conv_block(hidden_dim * 2, hidden_dim , kernel_size=4, stride=2, padding=1),\n",
        "            self._transpose_conv_block(hidden_dim, hidden_dim // 2, kernel_size=4, stride=2, padding=1),\n",
        "            self._transpose_conv_block(hidden_dim // 2, image_channel, kernel_size=3, stride=1, padding=0, final_layer=True),\n",
        "        )\n",
        "\n",
        "#         self.embed = torch.nn.Embedding(7, 128*128)\n",
        "\n",
        "    def _conv_block(\n",
        "        self,\n",
        "        input_channels,\n",
        "        output_channels,\n",
        "        kernel_size=4,\n",
        "        stride=2,\n",
        "        padding=1,\n",
        "        final_layer=False,\n",
        "    ):\n",
        "\n",
        "        if not final_layer:\n",
        "            return torch.nn.Sequential(\n",
        "                torch.nn.Conv2d(input_channels, output_channels, kernel_size, stride),\n",
        "                torch.nn.BatchNorm2d(output_channels),\n",
        "                torch.nn.LeakyReLU(0.2, inplace=True),\n",
        "            )\n",
        "        else:\n",
        "            return torch.nn.Sequential(\n",
        "                torch.nn.Conv2d(input_channels, output_channels, kernel_size=2, stride=2),\n",
        "            )\n",
        "\n",
        "    def _transpose_conv_block(\n",
        "        self,\n",
        "        input_channels,\n",
        "        output_channels,\n",
        "        kernel_size=4,\n",
        "        stride=2,\n",
        "        padding=1,\n",
        "        final_layer=False,\n",
        "    ):\n",
        "        if not final_layer:\n",
        "            return torch.nn.Sequential(\n",
        "                torch.nn.ConvTranspose2d(\n",
        "                    input_channels, output_channels, kernel_size, stride\n",
        "                ),\n",
        "                torch.nn.BatchNorm2d(output_channels),\n",
        "                torch.nn.ReLU(inplace=True),\n",
        "            )\n",
        "        else:\n",
        "            return torch.nn.Sequential(\n",
        "                torch.nn.ConvTranspose2d(\n",
        "                    input_channels, output_channels, kernel_size, stride\n",
        "                ),\n",
        "                torch.nn.Tanh(),\n",
        "            )\n",
        "\n",
        "    def forward(self, x, labels):\n",
        "#         embedding = self.embed(labels).view(labels.shape[0], 7, 128, 128)\n",
        "        embedding = labels.unsqueeze(-1).unsqueeze(-1).expand(-1, -1, 128, 128)\n",
        "        x = torch.cat([x, embedding], dim=1)\n",
        "        # x = noise.view(len(noise), self.input_dim, 1, 1)\n",
        "#         outputs = []\n",
        "        for layer in self.gen:\n",
        "#           print(\"1\", x.shape)\n",
        "          x = layer(x)\n",
        "#           outputs.append(x)\n",
        "        for layer in self.upsamp_gen:\n",
        "            x = layer(x)\n",
        "        return x"
      ],
      "metadata": {
        "id": "-MoYC02VrfJr"
      },
      "execution_count": null,
      "outputs": []
    },
    {
      "cell_type": "code",
      "source": [
        "generator = Generator().to(DEVICE)\n",
        "generator"
      ],
      "metadata": {
        "execution": {
          "iopub.status.busy": "2024-04-14T01:04:47.933553Z",
          "iopub.execute_input": "2024-04-14T01:04:47.934488Z",
          "iopub.status.idle": "2024-04-14T01:04:47.958881Z",
          "shell.execute_reply.started": "2024-04-14T01:04:47.934453Z",
          "shell.execute_reply": "2024-04-14T01:04:47.957862Z"
        },
        "trusted": true,
        "id": "iPrEFsJ50GHE",
        "outputId": "a7a1cacd-0292-495d-e556-26a658661c1d",
        "colab": {
          "base_uri": "https://localhost:8080/"
        }
      },
      "execution_count": null,
      "outputs": [
        {
          "output_type": "execute_result",
          "data": {
            "text/plain": [
              "Generator(\n",
              "  (gen): Sequential(\n",
              "    (0): Sequential(\n",
              "      (0): Conv2d(10, 16, kernel_size=(4, 4), stride=(2, 2))\n",
              "      (1): BatchNorm2d(16, eps=1e-05, momentum=0.1, affine=True, track_running_stats=True)\n",
              "      (2): LeakyReLU(negative_slope=0.2, inplace=True)\n",
              "    )\n",
              "    (1): Sequential(\n",
              "      (0): Conv2d(16, 32, kernel_size=(4, 4), stride=(2, 2))\n",
              "      (1): BatchNorm2d(32, eps=1e-05, momentum=0.1, affine=True, track_running_stats=True)\n",
              "      (2): LeakyReLU(negative_slope=0.2, inplace=True)\n",
              "    )\n",
              "    (2): Sequential(\n",
              "      (0): Conv2d(32, 64, kernel_size=(4, 4), stride=(2, 2))\n",
              "      (1): BatchNorm2d(64, eps=1e-05, momentum=0.1, affine=True, track_running_stats=True)\n",
              "      (2): LeakyReLU(negative_slope=0.2, inplace=True)\n",
              "    )\n",
              "    (3): Sequential(\n",
              "      (0): Conv2d(64, 96, kernel_size=(4, 4), stride=(2, 2))\n",
              "      (1): BatchNorm2d(96, eps=1e-05, momentum=0.1, affine=True, track_running_stats=True)\n",
              "      (2): LeakyReLU(negative_slope=0.2, inplace=True)\n",
              "    )\n",
              "    (4): Sequential(\n",
              "      (0): Conv2d(96, 128, kernel_size=(4, 4), stride=(2, 2))\n",
              "      (1): BatchNorm2d(128, eps=1e-05, momentum=0.1, affine=True, track_running_stats=True)\n",
              "      (2): LeakyReLU(negative_slope=0.2, inplace=True)\n",
              "    )\n",
              "  )\n",
              "  (upsamp_gen): Sequential(\n",
              "    (0): Sequential(\n",
              "      (0): ConvTranspose2d(128, 96, kernel_size=(4, 4), stride=(2, 2))\n",
              "      (1): BatchNorm2d(96, eps=1e-05, momentum=0.1, affine=True, track_running_stats=True)\n",
              "      (2): ReLU(inplace=True)\n",
              "    )\n",
              "    (1): Sequential(\n",
              "      (0): ConvTranspose2d(96, 64, kernel_size=(4, 4), stride=(2, 2))\n",
              "      (1): BatchNorm2d(64, eps=1e-05, momentum=0.1, affine=True, track_running_stats=True)\n",
              "      (2): ReLU(inplace=True)\n",
              "    )\n",
              "    (2): Sequential(\n",
              "      (0): ConvTranspose2d(64, 32, kernel_size=(4, 4), stride=(2, 2))\n",
              "      (1): BatchNorm2d(32, eps=1e-05, momentum=0.1, affine=True, track_running_stats=True)\n",
              "      (2): ReLU(inplace=True)\n",
              "    )\n",
              "    (3): Sequential(\n",
              "      (0): ConvTranspose2d(32, 16, kernel_size=(4, 4), stride=(2, 2))\n",
              "      (1): BatchNorm2d(16, eps=1e-05, momentum=0.1, affine=True, track_running_stats=True)\n",
              "      (2): ReLU(inplace=True)\n",
              "    )\n",
              "    (4): Sequential(\n",
              "      (0): ConvTranspose2d(16, 8, kernel_size=(4, 4), stride=(2, 2))\n",
              "      (1): BatchNorm2d(8, eps=1e-05, momentum=0.1, affine=True, track_running_stats=True)\n",
              "      (2): ReLU(inplace=True)\n",
              "    )\n",
              "    (5): Sequential(\n",
              "      (0): ConvTranspose2d(8, 3, kernel_size=(3, 3), stride=(1, 1))\n",
              "      (1): Tanh()\n",
              "    )\n",
              "  )\n",
              ")"
            ]
          },
          "metadata": {},
          "execution_count": 79
        }
      ]
    },
    {
      "cell_type": "code",
      "source": [
        "latent = torch.randn(32, 3, 128, 128).to(DEVICE)\n",
        "generator(latent, torch.rand(32, 7).to(torch.long).to(DEVICE)).shape"
      ],
      "metadata": {
        "execution": {
          "iopub.status.busy": "2024-04-14T01:04:52.981526Z",
          "iopub.execute_input": "2024-04-14T01:04:52.982366Z",
          "iopub.status.idle": "2024-04-14T01:04:53.105071Z",
          "shell.execute_reply.started": "2024-04-14T01:04:52.982330Z",
          "shell.execute_reply": "2024-04-14T01:04:53.104008Z"
        },
        "trusted": true,
        "id": "eqMLUePq0GHF",
        "outputId": "9f3577af-c12c-43b0-d100-1884be059822"
      },
      "execution_count": null,
      "outputs": [
        {
          "execution_count": 19,
          "output_type": "execute_result",
          "data": {
            "text/plain": "torch.Size([32, 3, 128, 128])"
          },
          "metadata": {}
        }
      ]
    },
    {
      "cell_type": "code",
      "source": [
        "criterion = torch.nn.BCELoss()\n",
        "L1_LOSS = torch.nn.L1Loss()\n",
        "n_epochs = 100\n",
        "display_step = 400\n",
        "lr_gen = 2e-4\n",
        "lr_dis = 2e-4"
      ],
      "metadata": {
        "id": "pvcfhsYftGOY"
      },
      "execution_count": null,
      "outputs": []
    },
    {
      "cell_type": "code",
      "source": [
        "generator_optimizer = torch.optim.Adam(generator.parameters(), lr=lr_gen, betas=(0.5, 0.999))\n",
        "discriminator_optimizer = torch.optim.Adam(discriminator.parameters(), lr=lr_dis, betas=(0.5, 0.999))"
      ],
      "metadata": {
        "id": "7gGqaDSWtJKP"
      },
      "execution_count": null,
      "outputs": []
    },
    {
      "cell_type": "code",
      "source": [
        "def custom_weights_init(module):\n",
        "    \"\"\"\n",
        "    Custom weight initialization function for neural network modules.\n",
        "\n",
        "    Args:\n",
        "        module (torch.nn.Module): Module to initialize weights for.\n",
        "    \"\"\"\n",
        "    if isinstance(module, (torch.nn.Conv2d, torch.nn.ConvTranspose2d)):\n",
        "        # If the module is a convolutional layer, initialize weights from a normal distribution\n",
        "        # with mean 0 and standard deviation 0.02\n",
        "        torch.nn.init.normal_(module.weight, mean=0.0, std=0.02)\n",
        "    elif isinstance(module, torch.nn.BatchNorm2d):\n",
        "        # If the module is a batch normalization layer, initialize weights from a normal distribution\n",
        "        # with mean 0 and standard deviation 0.02, and biases with constant value 0\n",
        "        torch.nn.init.normal_(module.weight, mean=0.0, std=0.02)\n",
        "        torch.nn.init.constant_(module.bias, 0)\n",
        "    elif isinstance(module, torch.nn.Linear):\n",
        "        # If the module is a linear layer, initialize weights from a normal distribution\n",
        "        # with mean 0 and standard deviation 0.02\n",
        "        torch.nn.init.normal_(module.weight, mean=0.0, std=0.02)\n",
        "        if module.bias is not None:\n",
        "            # If the linear layer has biases, initialize them with constant value 0\n",
        "            torch.nn.init.constant_(module.bias, 0)\n",
        "    elif isinstance(module, torch.nn.Embedding):\n",
        "        # If the module is an embedding layer, initialize weights from a normal distribution\n",
        "        # with mean 0 and standard deviation 0.02\n",
        "        torch.nn.init.normal_(module.weight, mean=0.0, std=0.02)\n"
      ],
      "metadata": {
        "id": "mJAR09cltU79"
      },
      "execution_count": null,
      "outputs": []
    },
    {
      "cell_type": "code",
      "source": [
        "\n",
        "def plot_images_from_tensor(tensor_images, plot_name, num_images=25, image_size=(1, 28, 28), nrow=5, show=True):\n",
        "    \"\"\"\n",
        "    Plot a grid of images from a tensor and log it to Weights & Biases.\n",
        "\n",
        "    Args:\n",
        "        tensor_images (torch.Tensor): Tensor containing images.\n",
        "        plot_name (str): Name of the plot.\n",
        "        num_images (int, optional): Number of images to plot. Defaults to 25.\n",
        "        image_size (tuple, optional): Size of each image in the tensor. Defaults to (1, 28, 28).\n",
        "        nrow (int, optional): Number of images per row in the grid. Defaults to 5.\n",
        "        show (bool, optional): Whether to show the plot. Defaults to True.\n",
        "    \"\"\"\n",
        "    # Scale the pixel values to the range [0, 1]\n",
        "    tensor_images = (tensor_images + 1) / 2\n",
        "\n",
        "    # Detach the tensor from the computational graph and move it to CPU\n",
        "    image_unflat = tensor_images.detach().cpu()\n",
        "\n",
        "    # Make a grid of images from the tensor\n",
        "    image_grid = make_grid(image_unflat[:num_images], nrow=nrow)\n",
        "\n",
        "    # Log the image grid to Weights & Biases\n",
        "    wandb.log({plot_name: [wandb.Image(image_grid.permute(1, 2, 0).squeeze().cpu().numpy(), caption=plot_name)]})\n",
        "\n",
        "    # Display the image grid using matplotlib\n",
        "    plt.imshow(image_grid.permute(1, 2, 0).squeeze())\n",
        "\n",
        "    # Show the plot if requested\n",
        "    if show:\n",
        "        plt.show()\n"
      ],
      "metadata": {
        "id": "ViObUmEUvSKw"
      },
      "execution_count": null,
      "outputs": []
    }
  ]
}